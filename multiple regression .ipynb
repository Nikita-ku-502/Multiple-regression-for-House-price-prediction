{
 "cells": [
  {
   "cell_type": "markdown",
   "id": "84fde39b",
   "metadata": {},
   "source": [
    "# Multiple linear regression to predict the price of house"
   ]
  },
  {
   "cell_type": "markdown",
   "id": "7816ad3a",
   "metadata": {},
   "source": [
    "###### Here we have given so many parameter on which the price of house depends.\n",
    "\n",
    "For linear regression the equation is f(x) = mx + c where m is slope and c is intercept.\n",
    "\n",
    "Now for multiple regression our equation will be f(x) = m1*x1 + m2*x2 + ... + Mn*Xn + b.\n",
    "\n",
    "where x1, x2, x3 .. are the different features for example :- \"area\",\"BHK\", or \"No. of bathroom\".\n",
    "\n",
    "we take parameter,  m = [ m1, m2, m3 ....] and \"b\".\n",
    "\n",
    "And feature,  x = [ x1, x2, x3,....].\n",
    "\n",
    "vector representation of multiple regression is  f(x)=m⋅x+b, where m.x is a dot product b/w them.\n"
   ]
  },
  {
   "cell_type": "code",
   "execution_count": 1,
   "id": "2b1e7bdd",
   "metadata": {},
   "outputs": [
    {
     "data": {
      "text/html": [
       "<div>\n",
       "<style scoped>\n",
       "    .dataframe tbody tr th:only-of-type {\n",
       "        vertical-align: middle;\n",
       "    }\n",
       "\n",
       "    .dataframe tbody tr th {\n",
       "        vertical-align: top;\n",
       "    }\n",
       "\n",
       "    .dataframe thead th {\n",
       "        text-align: right;\n",
       "    }\n",
       "</style>\n",
       "<table border=\"1\" class=\"dataframe\">\n",
       "  <thead>\n",
       "    <tr style=\"text-align: right;\">\n",
       "      <th></th>\n",
       "      <th>Area</th>\n",
       "      <th>BHK</th>\n",
       "      <th>Bathroom</th>\n",
       "      <th>Parking</th>\n",
       "      <th>Furnishing</th>\n",
       "      <th>Locality</th>\n",
       "      <th>Status</th>\n",
       "      <th>Transaction</th>\n",
       "      <th>Type</th>\n",
       "      <th>Per_Sqft</th>\n",
       "      <th>Price</th>\n",
       "    </tr>\n",
       "  </thead>\n",
       "  <tbody>\n",
       "    <tr>\n",
       "      <th>0</th>\n",
       "      <td>800.0</td>\n",
       "      <td>3</td>\n",
       "      <td>2.0</td>\n",
       "      <td>1.0</td>\n",
       "      <td>Semi-Furnished</td>\n",
       "      <td>Rohini Sector 25</td>\n",
       "      <td>Ready_to_move</td>\n",
       "      <td>New_Property</td>\n",
       "      <td>Builder_Floor</td>\n",
       "      <td>NaN</td>\n",
       "      <td>6500000</td>\n",
       "    </tr>\n",
       "    <tr>\n",
       "      <th>1</th>\n",
       "      <td>750.0</td>\n",
       "      <td>2</td>\n",
       "      <td>2.0</td>\n",
       "      <td>1.0</td>\n",
       "      <td>Semi-Furnished</td>\n",
       "      <td>J R Designers Floors, Rohini Sector 24</td>\n",
       "      <td>Ready_to_move</td>\n",
       "      <td>New_Property</td>\n",
       "      <td>Apartment</td>\n",
       "      <td>6667.0</td>\n",
       "      <td>5000000</td>\n",
       "    </tr>\n",
       "    <tr>\n",
       "      <th>2</th>\n",
       "      <td>950.0</td>\n",
       "      <td>2</td>\n",
       "      <td>2.0</td>\n",
       "      <td>1.0</td>\n",
       "      <td>Furnished</td>\n",
       "      <td>Citizen Apartment, Rohini Sector 13</td>\n",
       "      <td>Ready_to_move</td>\n",
       "      <td>Resale</td>\n",
       "      <td>Apartment</td>\n",
       "      <td>6667.0</td>\n",
       "      <td>15500000</td>\n",
       "    </tr>\n",
       "    <tr>\n",
       "      <th>3</th>\n",
       "      <td>600.0</td>\n",
       "      <td>2</td>\n",
       "      <td>2.0</td>\n",
       "      <td>1.0</td>\n",
       "      <td>Semi-Furnished</td>\n",
       "      <td>Rohini Sector 24</td>\n",
       "      <td>Ready_to_move</td>\n",
       "      <td>Resale</td>\n",
       "      <td>Builder_Floor</td>\n",
       "      <td>6667.0</td>\n",
       "      <td>4200000</td>\n",
       "    </tr>\n",
       "    <tr>\n",
       "      <th>4</th>\n",
       "      <td>650.0</td>\n",
       "      <td>2</td>\n",
       "      <td>2.0</td>\n",
       "      <td>1.0</td>\n",
       "      <td>Semi-Furnished</td>\n",
       "      <td>Rohini Sector 24 carpet area 650 sqft status R...</td>\n",
       "      <td>Ready_to_move</td>\n",
       "      <td>New_Property</td>\n",
       "      <td>Builder_Floor</td>\n",
       "      <td>6667.0</td>\n",
       "      <td>6200000</td>\n",
       "    </tr>\n",
       "  </tbody>\n",
       "</table>\n",
       "</div>"
      ],
      "text/plain": [
       "    Area  BHK  Bathroom  Parking      Furnishing  \\\n",
       "0  800.0    3       2.0      1.0  Semi-Furnished   \n",
       "1  750.0    2       2.0      1.0  Semi-Furnished   \n",
       "2  950.0    2       2.0      1.0       Furnished   \n",
       "3  600.0    2       2.0      1.0  Semi-Furnished   \n",
       "4  650.0    2       2.0      1.0  Semi-Furnished   \n",
       "\n",
       "                                            Locality         Status  \\\n",
       "0                                   Rohini Sector 25  Ready_to_move   \n",
       "1             J R Designers Floors, Rohini Sector 24  Ready_to_move   \n",
       "2                Citizen Apartment, Rohini Sector 13  Ready_to_move   \n",
       "3                                   Rohini Sector 24  Ready_to_move   \n",
       "4  Rohini Sector 24 carpet area 650 sqft status R...  Ready_to_move   \n",
       "\n",
       "    Transaction           Type  Per_Sqft     Price  \n",
       "0  New_Property  Builder_Floor       NaN   6500000  \n",
       "1  New_Property      Apartment    6667.0   5000000  \n",
       "2        Resale      Apartment    6667.0  15500000  \n",
       "3        Resale  Builder_Floor    6667.0   4200000  \n",
       "4  New_Property  Builder_Floor    6667.0   6200000  "
      ]
     },
     "execution_count": 1,
     "metadata": {},
     "output_type": "execute_result"
    }
   ],
   "source": [
    "# importing the data\n",
    "import pandas as pd\n",
    "df = pd.read_csv(\"C:/Users/Vaibhav/Desktop/ml data set/MagicBricks.csv\")\n",
    "df.head()"
   ]
  },
  {
   "cell_type": "code",
   "execution_count": 2,
   "id": "2f419103",
   "metadata": {},
   "outputs": [
    {
     "data": {
      "text/plain": [
       "array(['Semi-Furnished', 'Furnished', 'Unfurnished', nan], dtype=object)"
      ]
     },
     "execution_count": 2,
     "metadata": {},
     "output_type": "execute_result"
    }
   ],
   "source": [
    "# checking the unique value\n",
    "df[\"Furnishing\"].unique()"
   ]
  },
  {
   "cell_type": "code",
   "execution_count": 3,
   "id": "80959a04",
   "metadata": {},
   "outputs": [
    {
     "data": {
      "text/plain": [
       "array(['Ready_to_move', 'Almost_ready'], dtype=object)"
      ]
     },
     "execution_count": 3,
     "metadata": {},
     "output_type": "execute_result"
    }
   ],
   "source": [
    "# checking the unique value\n",
    "df[\"Status\"].unique()"
   ]
  },
  {
   "cell_type": "code",
   "execution_count": 4,
   "id": "af9b34f5",
   "metadata": {},
   "outputs": [
    {
     "data": {
      "text/plain": [
       "array(['New_Property', 'Resale'], dtype=object)"
      ]
     },
     "execution_count": 4,
     "metadata": {},
     "output_type": "execute_result"
    }
   ],
   "source": [
    "# checking the unique value\n",
    "df[\"Transaction\"].unique()"
   ]
  },
  {
   "cell_type": "code",
   "execution_count": 5,
   "id": "9e34050c",
   "metadata": {},
   "outputs": [
    {
     "data": {
      "text/plain": [
       "array(['Builder_Floor', 'Apartment', nan], dtype=object)"
      ]
     },
     "execution_count": 5,
     "metadata": {},
     "output_type": "execute_result"
    }
   ],
   "source": [
    "# checking the unique value\n",
    "df[\"Type\"].unique()"
   ]
  },
  {
   "cell_type": "markdown",
   "id": "141c2a08",
   "metadata": {},
   "source": [
    "## Data preprocessing"
   ]
  },
  {
   "cell_type": "code",
   "execution_count": 6,
   "id": "d39531a1",
   "metadata": {},
   "outputs": [
    {
     "data": {
      "text/plain": [
       "Area             0\n",
       "BHK              0\n",
       "Bathroom         2\n",
       "Parking         33\n",
       "Furnishing       5\n",
       "Locality         0\n",
       "Status           0\n",
       "Transaction      0\n",
       "Type             5\n",
       "Per_Sqft       241\n",
       "Price            0\n",
       "dtype: int64"
      ]
     },
     "execution_count": 6,
     "metadata": {},
     "output_type": "execute_result"
    }
   ],
   "source": [
    "# checking for null values\n",
    "df.isnull().sum()"
   ]
  },
  {
   "cell_type": "markdown",
   "id": "569ffe7c",
   "metadata": {},
   "source": [
    "column \"bathroom\",\"parking\", \"Furnishing\", \"Type\", \"Per_Sqft\" having null values\n",
    "\n",
    "In which \"Furnishing\", \"Type\" are categorical data "
   ]
  },
  {
   "cell_type": "code",
   "execution_count": 7,
   "id": "7bb56ba5",
   "metadata": {},
   "outputs": [],
   "source": [
    "# removing the null values from non-categorical columns by using SimpleImputer\n",
    "from sklearn.impute import SimpleImputer\n",
    "import numpy as np\n",
    "imputer = SimpleImputer(missing_values = np.nan,strategy = \"mean\")\n",
    "imputer.fit(df.iloc[:,[2,3,9]])\n",
    "df.iloc[:,[2,3,9]] = imputer.transform(df.iloc[:,[2,3,9]])\n"
   ]
  },
  {
   "cell_type": "markdown",
   "id": "384c0920",
   "metadata": {},
   "source": [
    "Here, I use mean to relace the null values"
   ]
  },
  {
   "cell_type": "code",
   "execution_count": 8,
   "id": "9daf88d6",
   "metadata": {},
   "outputs": [
    {
     "data": {
      "text/plain": [
       "Area           0\n",
       "BHK            0\n",
       "Bathroom       0\n",
       "Parking        0\n",
       "Furnishing     5\n",
       "Locality       0\n",
       "Status         0\n",
       "Transaction    0\n",
       "Type           5\n",
       "Per_Sqft       0\n",
       "Price          0\n",
       "dtype: int64"
      ]
     },
     "execution_count": 8,
     "metadata": {},
     "output_type": "execute_result"
    }
   ],
   "source": [
    "# checking for remaining null values\n",
    "df.isnull().sum()"
   ]
  },
  {
   "cell_type": "code",
   "execution_count": 9,
   "id": "fb0aeda3",
   "metadata": {},
   "outputs": [
    {
     "data": {
      "text/plain": [
       "(1259, 11)"
      ]
     },
     "execution_count": 9,
     "metadata": {},
     "output_type": "execute_result"
    }
   ],
   "source": [
    "df.shape"
   ]
  },
  {
   "cell_type": "code",
   "execution_count": 10,
   "id": "1e9359e9",
   "metadata": {},
   "outputs": [],
   "source": [
    "df.dropna(inplace =True , axis = 0)"
   ]
  },
  {
   "cell_type": "markdown",
   "id": "51157515",
   "metadata": {},
   "source": [
    "The remaining null values are very small, So i just remove those rows from dataframe"
   ]
  },
  {
   "cell_type": "code",
   "execution_count": 11,
   "id": "b7d7a911",
   "metadata": {},
   "outputs": [
    {
     "data": {
      "text/plain": [
       "Area           0\n",
       "BHK            0\n",
       "Bathroom       0\n",
       "Parking        0\n",
       "Furnishing     0\n",
       "Locality       0\n",
       "Status         0\n",
       "Transaction    0\n",
       "Type           0\n",
       "Per_Sqft       0\n",
       "Price          0\n",
       "dtype: int64"
      ]
     },
     "execution_count": 11,
     "metadata": {},
     "output_type": "execute_result"
    }
   ],
   "source": [
    "# No null values are left\n",
    "df.isnull().sum()"
   ]
  },
  {
   "cell_type": "code",
   "execution_count": 12,
   "id": "127e113a",
   "metadata": {},
   "outputs": [
    {
     "data": {
      "text/plain": [
       "(1254, 11)"
      ]
     },
     "execution_count": 12,
     "metadata": {},
     "output_type": "execute_result"
    }
   ],
   "source": [
    "# shape after deleting the rows\n",
    "df.shape"
   ]
  },
  {
   "cell_type": "code",
   "execution_count": 15,
   "id": "06de76ec",
   "metadata": {},
   "outputs": [
    {
     "data": {
      "text/html": [
       "<div>\n",
       "<style scoped>\n",
       "    .dataframe tbody tr th:only-of-type {\n",
       "        vertical-align: middle;\n",
       "    }\n",
       "\n",
       "    .dataframe tbody tr th {\n",
       "        vertical-align: top;\n",
       "    }\n",
       "\n",
       "    .dataframe thead th {\n",
       "        text-align: right;\n",
       "    }\n",
       "</style>\n",
       "<table border=\"1\" class=\"dataframe\">\n",
       "  <thead>\n",
       "    <tr style=\"text-align: right;\">\n",
       "      <th></th>\n",
       "      <th>Area</th>\n",
       "      <th>BHK</th>\n",
       "      <th>Bathroom</th>\n",
       "      <th>Parking</th>\n",
       "      <th>Furnishing</th>\n",
       "      <th>Locality</th>\n",
       "      <th>Status</th>\n",
       "      <th>Transaction</th>\n",
       "      <th>Type</th>\n",
       "      <th>Per_Sqft</th>\n",
       "      <th>Price</th>\n",
       "    </tr>\n",
       "  </thead>\n",
       "  <tbody>\n",
       "    <tr>\n",
       "      <th>0</th>\n",
       "      <td>800.0</td>\n",
       "      <td>3</td>\n",
       "      <td>2.0</td>\n",
       "      <td>1.0</td>\n",
       "      <td>Semi-Furnished</td>\n",
       "      <td>Rohini Sector 25</td>\n",
       "      <td>Ready_to_move</td>\n",
       "      <td>New_Property</td>\n",
       "      <td>Builder_Floor</td>\n",
       "      <td>15690.136542</td>\n",
       "      <td>6500000</td>\n",
       "    </tr>\n",
       "    <tr>\n",
       "      <th>1</th>\n",
       "      <td>750.0</td>\n",
       "      <td>2</td>\n",
       "      <td>2.0</td>\n",
       "      <td>1.0</td>\n",
       "      <td>Semi-Furnished</td>\n",
       "      <td>J R Designers Floors, Rohini Sector 24</td>\n",
       "      <td>Ready_to_move</td>\n",
       "      <td>New_Property</td>\n",
       "      <td>Apartment</td>\n",
       "      <td>6667.000000</td>\n",
       "      <td>5000000</td>\n",
       "    </tr>\n",
       "    <tr>\n",
       "      <th>2</th>\n",
       "      <td>950.0</td>\n",
       "      <td>2</td>\n",
       "      <td>2.0</td>\n",
       "      <td>1.0</td>\n",
       "      <td>Furnished</td>\n",
       "      <td>Citizen Apartment, Rohini Sector 13</td>\n",
       "      <td>Ready_to_move</td>\n",
       "      <td>Resale</td>\n",
       "      <td>Apartment</td>\n",
       "      <td>6667.000000</td>\n",
       "      <td>15500000</td>\n",
       "    </tr>\n",
       "  </tbody>\n",
       "</table>\n",
       "</div>"
      ],
      "text/plain": [
       "    Area  BHK  Bathroom  Parking      Furnishing  \\\n",
       "0  800.0    3       2.0      1.0  Semi-Furnished   \n",
       "1  750.0    2       2.0      1.0  Semi-Furnished   \n",
       "2  950.0    2       2.0      1.0       Furnished   \n",
       "\n",
       "                                 Locality         Status   Transaction  \\\n",
       "0                        Rohini Sector 25  Ready_to_move  New_Property   \n",
       "1  J R Designers Floors, Rohini Sector 24  Ready_to_move  New_Property   \n",
       "2     Citizen Apartment, Rohini Sector 13  Ready_to_move        Resale   \n",
       "\n",
       "            Type      Per_Sqft     Price  \n",
       "0  Builder_Floor  15690.136542   6500000  \n",
       "1      Apartment   6667.000000   5000000  \n",
       "2      Apartment   6667.000000  15500000  "
      ]
     },
     "execution_count": 15,
     "metadata": {},
     "output_type": "execute_result"
    }
   ],
   "source": [
    "df.head(3)"
   ]
  },
  {
   "cell_type": "markdown",
   "id": "2cbfdbeb",
   "metadata": {},
   "source": [
    "### Encoding for categorical data"
   ]
  },
  {
   "cell_type": "code",
   "execution_count": 20,
   "id": "b95ed085",
   "metadata": {},
   "outputs": [
    {
     "data": {
      "text/html": [
       "<div>\n",
       "<style scoped>\n",
       "    .dataframe tbody tr th:only-of-type {\n",
       "        vertical-align: middle;\n",
       "    }\n",
       "\n",
       "    .dataframe tbody tr th {\n",
       "        vertical-align: top;\n",
       "    }\n",
       "\n",
       "    .dataframe thead th {\n",
       "        text-align: right;\n",
       "    }\n",
       "</style>\n",
       "<table border=\"1\" class=\"dataframe\">\n",
       "  <thead>\n",
       "    <tr style=\"text-align: right;\">\n",
       "      <th></th>\n",
       "      <th>Area</th>\n",
       "      <th>BHK</th>\n",
       "      <th>Bathroom</th>\n",
       "      <th>Parking</th>\n",
       "      <th>Furnishing</th>\n",
       "      <th>Locality</th>\n",
       "      <th>Status</th>\n",
       "      <th>Transaction</th>\n",
       "      <th>Type</th>\n",
       "      <th>Per_Sqft</th>\n",
       "      <th>Price</th>\n",
       "    </tr>\n",
       "  </thead>\n",
       "  <tbody>\n",
       "    <tr>\n",
       "      <th>0</th>\n",
       "      <td>800.0</td>\n",
       "      <td>3</td>\n",
       "      <td>2.0</td>\n",
       "      <td>1.0</td>\n",
       "      <td>1</td>\n",
       "      <td>Rohini Sector 25</td>\n",
       "      <td>Ready_to_move</td>\n",
       "      <td>New_Property</td>\n",
       "      <td>Builder_Floor</td>\n",
       "      <td>15690.136542</td>\n",
       "      <td>6500000</td>\n",
       "    </tr>\n",
       "    <tr>\n",
       "      <th>1</th>\n",
       "      <td>750.0</td>\n",
       "      <td>2</td>\n",
       "      <td>2.0</td>\n",
       "      <td>1.0</td>\n",
       "      <td>1</td>\n",
       "      <td>J R Designers Floors, Rohini Sector 24</td>\n",
       "      <td>Ready_to_move</td>\n",
       "      <td>New_Property</td>\n",
       "      <td>Apartment</td>\n",
       "      <td>6667.000000</td>\n",
       "      <td>5000000</td>\n",
       "    </tr>\n",
       "    <tr>\n",
       "      <th>2</th>\n",
       "      <td>950.0</td>\n",
       "      <td>2</td>\n",
       "      <td>2.0</td>\n",
       "      <td>1.0</td>\n",
       "      <td>0</td>\n",
       "      <td>Citizen Apartment, Rohini Sector 13</td>\n",
       "      <td>Ready_to_move</td>\n",
       "      <td>Resale</td>\n",
       "      <td>Apartment</td>\n",
       "      <td>6667.000000</td>\n",
       "      <td>15500000</td>\n",
       "    </tr>\n",
       "    <tr>\n",
       "      <th>3</th>\n",
       "      <td>600.0</td>\n",
       "      <td>2</td>\n",
       "      <td>2.0</td>\n",
       "      <td>1.0</td>\n",
       "      <td>1</td>\n",
       "      <td>Rohini Sector 24</td>\n",
       "      <td>Ready_to_move</td>\n",
       "      <td>Resale</td>\n",
       "      <td>Builder_Floor</td>\n",
       "      <td>6667.000000</td>\n",
       "      <td>4200000</td>\n",
       "    </tr>\n",
       "    <tr>\n",
       "      <th>4</th>\n",
       "      <td>650.0</td>\n",
       "      <td>2</td>\n",
       "      <td>2.0</td>\n",
       "      <td>1.0</td>\n",
       "      <td>1</td>\n",
       "      <td>Rohini Sector 24 carpet area 650 sqft status R...</td>\n",
       "      <td>Ready_to_move</td>\n",
       "      <td>New_Property</td>\n",
       "      <td>Builder_Floor</td>\n",
       "      <td>6667.000000</td>\n",
       "      <td>6200000</td>\n",
       "    </tr>\n",
       "  </tbody>\n",
       "</table>\n",
       "</div>"
      ],
      "text/plain": [
       "    Area  BHK  Bathroom  Parking  Furnishing  \\\n",
       "0  800.0    3       2.0      1.0           1   \n",
       "1  750.0    2       2.0      1.0           1   \n",
       "2  950.0    2       2.0      1.0           0   \n",
       "3  600.0    2       2.0      1.0           1   \n",
       "4  650.0    2       2.0      1.0           1   \n",
       "\n",
       "                                            Locality         Status  \\\n",
       "0                                   Rohini Sector 25  Ready_to_move   \n",
       "1             J R Designers Floors, Rohini Sector 24  Ready_to_move   \n",
       "2                Citizen Apartment, Rohini Sector 13  Ready_to_move   \n",
       "3                                   Rohini Sector 24  Ready_to_move   \n",
       "4  Rohini Sector 24 carpet area 650 sqft status R...  Ready_to_move   \n",
       "\n",
       "    Transaction           Type      Per_Sqft     Price  \n",
       "0  New_Property  Builder_Floor  15690.136542   6500000  \n",
       "1  New_Property      Apartment   6667.000000   5000000  \n",
       "2        Resale      Apartment   6667.000000  15500000  \n",
       "3        Resale  Builder_Floor   6667.000000   4200000  \n",
       "4  New_Property  Builder_Floor   6667.000000   6200000  "
      ]
     },
     "execution_count": 20,
     "metadata": {},
     "output_type": "execute_result"
    }
   ],
   "source": [
    "# encoding for categorical data\n",
    "df[\"Furnishing\"]= df[\"Furnishing\"].astype(\"category\")\n",
    "df[\"Furnishing\"]= df[\"Furnishing\"].cat.codes\n",
    "df.head()"
   ]
  },
  {
   "cell_type": "code",
   "execution_count": 31,
   "id": "1a08cf3d",
   "metadata": {},
   "outputs": [
    {
     "data": {
      "text/plain": [
       "array([1, 0, 2], dtype=int8)"
      ]
     },
     "execution_count": 31,
     "metadata": {},
     "output_type": "execute_result"
    }
   ],
   "source": [
    "df[\"Furnishing\"].unique()\n",
    "#previous array(['Semi-Furnished', 'Furnished', 'Unfurnished'])"
   ]
  },
  {
   "cell_type": "markdown",
   "id": "cea012dc",
   "metadata": {},
   "source": [
    "1 --> Semi-Furnished\n",
    "\n",
    "0 --> Furnished\n",
    "\n",
    "2 --> Unfurnished"
   ]
  },
  {
   "cell_type": "code",
   "execution_count": 23,
   "id": "83a25737",
   "metadata": {},
   "outputs": [],
   "source": [
    "df[\"Status\"] = df[\"Status\"].astype(\"category\")\n",
    "df[\"Status\"] = df[\"Status\"].cat.codes"
   ]
  },
  {
   "cell_type": "code",
   "execution_count": 26,
   "id": "412c94fe",
   "metadata": {},
   "outputs": [
    {
     "data": {
      "text/plain": [
       "array([1, 0], dtype=int8)"
      ]
     },
     "execution_count": 26,
     "metadata": {},
     "output_type": "execute_result"
    }
   ],
   "source": [
    "df[\"Status\"].unique() # array(['Ready_to_move', 'Almost_ready']"
   ]
  },
  {
   "cell_type": "markdown",
   "id": "41bba84c",
   "metadata": {},
   "source": [
    "1---> Ready_to_move\n",
    "\n",
    "0---> Almost_ready"
   ]
  },
  {
   "cell_type": "code",
   "execution_count": 29,
   "id": "9b69876c",
   "metadata": {},
   "outputs": [],
   "source": [
    "df[\"Transaction\"] = df[\"Transaction\"].astype(\"category\")\n",
    "df[\"Transaction\"] = df[\"Transaction\"].cat.codes"
   ]
  },
  {
   "cell_type": "code",
   "execution_count": 32,
   "id": "3fa6ec3d",
   "metadata": {},
   "outputs": [
    {
     "data": {
      "text/plain": [
       "array([0, 1], dtype=int8)"
      ]
     },
     "execution_count": 32,
     "metadata": {},
     "output_type": "execute_result"
    }
   ],
   "source": [
    "df[\"Transaction\"].unique() #array(['New_Property', 'Resale'])"
   ]
  },
  {
   "cell_type": "markdown",
   "id": "dea2f45c",
   "metadata": {},
   "source": [
    "0 -- > New property\n",
    "\n",
    "1 --> Resale"
   ]
  },
  {
   "cell_type": "code",
   "execution_count": 33,
   "id": "79debca5",
   "metadata": {},
   "outputs": [],
   "source": [
    "df[\"Type\"] = df[\"Type\"].astype(\"category\")\n",
    "df[\"Type\"] = df[\"Type\"].cat.codes"
   ]
  },
  {
   "cell_type": "code",
   "execution_count": 34,
   "id": "caaec1ea",
   "metadata": {},
   "outputs": [
    {
     "data": {
      "text/plain": [
       "array([1, 0], dtype=int8)"
      ]
     },
     "execution_count": 34,
     "metadata": {},
     "output_type": "execute_result"
    }
   ],
   "source": [
    "df[\"Type\"].unique() #array(['Builder_Floor', 'Apartment'])"
   ]
  },
  {
   "cell_type": "markdown",
   "id": "dacaa085",
   "metadata": {},
   "source": [
    "1--> builder floor\n",
    "\n",
    "0 --> apartment"
   ]
  },
  {
   "cell_type": "code",
   "execution_count": 110,
   "id": "31db2aa5",
   "metadata": {},
   "outputs": [
    {
     "data": {
      "text/html": [
       "<div>\n",
       "<style scoped>\n",
       "    .dataframe tbody tr th:only-of-type {\n",
       "        vertical-align: middle;\n",
       "    }\n",
       "\n",
       "    .dataframe tbody tr th {\n",
       "        vertical-align: top;\n",
       "    }\n",
       "\n",
       "    .dataframe thead th {\n",
       "        text-align: right;\n",
       "    }\n",
       "</style>\n",
       "<table border=\"1\" class=\"dataframe\">\n",
       "  <thead>\n",
       "    <tr style=\"text-align: right;\">\n",
       "      <th></th>\n",
       "      <th>Area</th>\n",
       "      <th>BHK</th>\n",
       "      <th>Bathroom</th>\n",
       "      <th>Parking</th>\n",
       "      <th>Furnishing</th>\n",
       "      <th>Locality</th>\n",
       "      <th>Status</th>\n",
       "      <th>Transaction</th>\n",
       "      <th>Type</th>\n",
       "      <th>Per_Sqft</th>\n",
       "      <th>Price</th>\n",
       "    </tr>\n",
       "  </thead>\n",
       "  <tbody>\n",
       "    <tr>\n",
       "      <th>0</th>\n",
       "      <td>800.0</td>\n",
       "      <td>3</td>\n",
       "      <td>2.0</td>\n",
       "      <td>1.0</td>\n",
       "      <td>1</td>\n",
       "      <td>Rohini Sector 25</td>\n",
       "      <td>1</td>\n",
       "      <td>0</td>\n",
       "      <td>1</td>\n",
       "      <td>15690.136542</td>\n",
       "      <td>6500000</td>\n",
       "    </tr>\n",
       "    <tr>\n",
       "      <th>1</th>\n",
       "      <td>750.0</td>\n",
       "      <td>2</td>\n",
       "      <td>2.0</td>\n",
       "      <td>1.0</td>\n",
       "      <td>1</td>\n",
       "      <td>J R Designers Floors, Rohini Sector 24</td>\n",
       "      <td>1</td>\n",
       "      <td>0</td>\n",
       "      <td>0</td>\n",
       "      <td>6667.000000</td>\n",
       "      <td>5000000</td>\n",
       "    </tr>\n",
       "    <tr>\n",
       "      <th>2</th>\n",
       "      <td>950.0</td>\n",
       "      <td>2</td>\n",
       "      <td>2.0</td>\n",
       "      <td>1.0</td>\n",
       "      <td>0</td>\n",
       "      <td>Citizen Apartment, Rohini Sector 13</td>\n",
       "      <td>1</td>\n",
       "      <td>1</td>\n",
       "      <td>0</td>\n",
       "      <td>6667.000000</td>\n",
       "      <td>15500000</td>\n",
       "    </tr>\n",
       "    <tr>\n",
       "      <th>3</th>\n",
       "      <td>600.0</td>\n",
       "      <td>2</td>\n",
       "      <td>2.0</td>\n",
       "      <td>1.0</td>\n",
       "      <td>1</td>\n",
       "      <td>Rohini Sector 24</td>\n",
       "      <td>1</td>\n",
       "      <td>1</td>\n",
       "      <td>1</td>\n",
       "      <td>6667.000000</td>\n",
       "      <td>4200000</td>\n",
       "    </tr>\n",
       "    <tr>\n",
       "      <th>4</th>\n",
       "      <td>650.0</td>\n",
       "      <td>2</td>\n",
       "      <td>2.0</td>\n",
       "      <td>1.0</td>\n",
       "      <td>1</td>\n",
       "      <td>Rohini Sector 24 carpet area 650 sqft status R...</td>\n",
       "      <td>1</td>\n",
       "      <td>0</td>\n",
       "      <td>1</td>\n",
       "      <td>6667.000000</td>\n",
       "      <td>6200000</td>\n",
       "    </tr>\n",
       "    <tr>\n",
       "      <th>...</th>\n",
       "      <td>...</td>\n",
       "      <td>...</td>\n",
       "      <td>...</td>\n",
       "      <td>...</td>\n",
       "      <td>...</td>\n",
       "      <td>...</td>\n",
       "      <td>...</td>\n",
       "      <td>...</td>\n",
       "      <td>...</td>\n",
       "      <td>...</td>\n",
       "      <td>...</td>\n",
       "    </tr>\n",
       "    <tr>\n",
       "      <th>1254</th>\n",
       "      <td>4118.0</td>\n",
       "      <td>4</td>\n",
       "      <td>5.0</td>\n",
       "      <td>3.0</td>\n",
       "      <td>2</td>\n",
       "      <td>Chittaranjan Park</td>\n",
       "      <td>1</td>\n",
       "      <td>0</td>\n",
       "      <td>1</td>\n",
       "      <td>12916.000000</td>\n",
       "      <td>55000000</td>\n",
       "    </tr>\n",
       "    <tr>\n",
       "      <th>1255</th>\n",
       "      <td>1050.0</td>\n",
       "      <td>3</td>\n",
       "      <td>2.0</td>\n",
       "      <td>3.0</td>\n",
       "      <td>1</td>\n",
       "      <td>Chittaranjan Park</td>\n",
       "      <td>1</td>\n",
       "      <td>1</td>\n",
       "      <td>1</td>\n",
       "      <td>12916.000000</td>\n",
       "      <td>12500000</td>\n",
       "    </tr>\n",
       "    <tr>\n",
       "      <th>1256</th>\n",
       "      <td>875.0</td>\n",
       "      <td>3</td>\n",
       "      <td>3.0</td>\n",
       "      <td>3.0</td>\n",
       "      <td>1</td>\n",
       "      <td>Chittaranjan Park</td>\n",
       "      <td>1</td>\n",
       "      <td>0</td>\n",
       "      <td>1</td>\n",
       "      <td>12916.000000</td>\n",
       "      <td>17500000</td>\n",
       "    </tr>\n",
       "    <tr>\n",
       "      <th>1257</th>\n",
       "      <td>990.0</td>\n",
       "      <td>2</td>\n",
       "      <td>2.0</td>\n",
       "      <td>1.0</td>\n",
       "      <td>2</td>\n",
       "      <td>Chittaranjan Park Block A</td>\n",
       "      <td>1</td>\n",
       "      <td>1</td>\n",
       "      <td>1</td>\n",
       "      <td>12916.000000</td>\n",
       "      <td>11500000</td>\n",
       "    </tr>\n",
       "    <tr>\n",
       "      <th>1258</th>\n",
       "      <td>11050.0</td>\n",
       "      <td>3</td>\n",
       "      <td>3.0</td>\n",
       "      <td>1.0</td>\n",
       "      <td>2</td>\n",
       "      <td>Chittaranjan Park</td>\n",
       "      <td>1</td>\n",
       "      <td>0</td>\n",
       "      <td>1</td>\n",
       "      <td>12916.000000</td>\n",
       "      <td>18500000</td>\n",
       "    </tr>\n",
       "  </tbody>\n",
       "</table>\n",
       "<p>1254 rows × 11 columns</p>\n",
       "</div>"
      ],
      "text/plain": [
       "         Area  BHK  Bathroom  Parking  Furnishing  \\\n",
       "0       800.0    3       2.0      1.0           1   \n",
       "1       750.0    2       2.0      1.0           1   \n",
       "2       950.0    2       2.0      1.0           0   \n",
       "3       600.0    2       2.0      1.0           1   \n",
       "4       650.0    2       2.0      1.0           1   \n",
       "...       ...  ...       ...      ...         ...   \n",
       "1254   4118.0    4       5.0      3.0           2   \n",
       "1255   1050.0    3       2.0      3.0           1   \n",
       "1256    875.0    3       3.0      3.0           1   \n",
       "1257    990.0    2       2.0      1.0           2   \n",
       "1258  11050.0    3       3.0      1.0           2   \n",
       "\n",
       "                                               Locality  Status  Transaction  \\\n",
       "0                                      Rohini Sector 25       1            0   \n",
       "1                J R Designers Floors, Rohini Sector 24       1            0   \n",
       "2                   Citizen Apartment, Rohini Sector 13       1            1   \n",
       "3                                      Rohini Sector 24       1            1   \n",
       "4     Rohini Sector 24 carpet area 650 sqft status R...       1            0   \n",
       "...                                                 ...     ...          ...   \n",
       "1254                                  Chittaranjan Park       1            0   \n",
       "1255                                  Chittaranjan Park       1            1   \n",
       "1256                                  Chittaranjan Park       1            0   \n",
       "1257                          Chittaranjan Park Block A       1            1   \n",
       "1258                                  Chittaranjan Park       1            0   \n",
       "\n",
       "      Type      Per_Sqft     Price  \n",
       "0        1  15690.136542   6500000  \n",
       "1        0   6667.000000   5000000  \n",
       "2        0   6667.000000  15500000  \n",
       "3        1   6667.000000   4200000  \n",
       "4        1   6667.000000   6200000  \n",
       "...    ...           ...       ...  \n",
       "1254     1  12916.000000  55000000  \n",
       "1255     1  12916.000000  12500000  \n",
       "1256     1  12916.000000  17500000  \n",
       "1257     1  12916.000000  11500000  \n",
       "1258     1  12916.000000  18500000  \n",
       "\n",
       "[1254 rows x 11 columns]"
      ]
     },
     "execution_count": 110,
     "metadata": {},
     "output_type": "execute_result"
    }
   ],
   "source": [
    "# we done aur encoding part for categorical data\n",
    "df"
   ]
  },
  {
   "cell_type": "code",
   "execution_count": 81,
   "id": "86712a63",
   "metadata": {},
   "outputs": [
    {
     "data": {
      "image/png": "[encoded data removed]",
      "text/plain": [
       "<Figure size 1152x360 with 2 Axes>"
      ]
     },
     "metadata": {
      "needs_background": "light"
     },
     "output_type": "display_data"
    }
   ],
   "source": [
    "# Ploting a heat map to know the relation b/w price with other column\n",
    "\n",
    "import seaborn as sns\n",
    "import matplotlib.pyplot as plt\n",
    "fig = plt.figure(figsize = (16,5))\n",
    "corr = df[[\"Area\",\"BHK\",\"Bathroom\",\"Parking\",\"Per_Sqft\",\"Price\",\"Furnishing\",\"Status\",\"Transaction\",\"Type\"]].corr()\n",
    "sns.heatmap(corr, annot= True) #we set annot for annotate to true to see the corellation values\n",
    "plt.title('Heat map of Area ,BHK, Bathroom, Parking, Per_Sqft, Price ')\n",
    "plt.show()"
   ]
  },
  {
   "cell_type": "markdown",
   "id": "ed62960b",
   "metadata": {},
   "source": [
    "From this heat map we can see that \"area\", \"BHK\", \"Bathroom\" and \"per_Sqrt\" have high correlation with price"
   ]
  },
  {
   "cell_type": "code",
   "execution_count": 83,
   "id": "098e6a99",
   "metadata": {},
   "outputs": [],
   "source": [
    "# spliting of independent and dependent data into x and y respectively\n",
    "x = df.iloc[:,[0,1,2,9]]\n",
    "y = df.iloc[:,-1]"
   ]
  },
  {
   "cell_type": "code",
   "execution_count": 84,
   "id": "3bc0018c",
   "metadata": {},
   "outputs": [
    {
     "data": {
      "text/html": [
       "<div>\n",
       "<style scoped>\n",
       "    .dataframe tbody tr th:only-of-type {\n",
       "        vertical-align: middle;\n",
       "    }\n",
       "\n",
       "    .dataframe tbody tr th {\n",
       "        vertical-align: top;\n",
       "    }\n",
       "\n",
       "    .dataframe thead th {\n",
       "        text-align: right;\n",
       "    }\n",
       "</style>\n",
       "<table border=\"1\" class=\"dataframe\">\n",
       "  <thead>\n",
       "    <tr style=\"text-align: right;\">\n",
       "      <th></th>\n",
       "      <th>Area</th>\n",
       "      <th>BHK</th>\n",
       "      <th>Bathroom</th>\n",
       "      <th>Per_Sqft</th>\n",
       "    </tr>\n",
       "  </thead>\n",
       "  <tbody>\n",
       "    <tr>\n",
       "      <th>0</th>\n",
       "      <td>800.0</td>\n",
       "      <td>3</td>\n",
       "      <td>2.0</td>\n",
       "      <td>15690.136542</td>\n",
       "    </tr>\n",
       "    <tr>\n",
       "      <th>1</th>\n",
       "      <td>750.0</td>\n",
       "      <td>2</td>\n",
       "      <td>2.0</td>\n",
       "      <td>6667.000000</td>\n",
       "    </tr>\n",
       "    <tr>\n",
       "      <th>2</th>\n",
       "      <td>950.0</td>\n",
       "      <td>2</td>\n",
       "      <td>2.0</td>\n",
       "      <td>6667.000000</td>\n",
       "    </tr>\n",
       "    <tr>\n",
       "      <th>3</th>\n",
       "      <td>600.0</td>\n",
       "      <td>2</td>\n",
       "      <td>2.0</td>\n",
       "      <td>6667.000000</td>\n",
       "    </tr>\n",
       "    <tr>\n",
       "      <th>4</th>\n",
       "      <td>650.0</td>\n",
       "      <td>2</td>\n",
       "      <td>2.0</td>\n",
       "      <td>6667.000000</td>\n",
       "    </tr>\n",
       "    <tr>\n",
       "      <th>...</th>\n",
       "      <td>...</td>\n",
       "      <td>...</td>\n",
       "      <td>...</td>\n",
       "      <td>...</td>\n",
       "    </tr>\n",
       "    <tr>\n",
       "      <th>1254</th>\n",
       "      <td>4118.0</td>\n",
       "      <td>4</td>\n",
       "      <td>5.0</td>\n",
       "      <td>12916.000000</td>\n",
       "    </tr>\n",
       "    <tr>\n",
       "      <th>1255</th>\n",
       "      <td>1050.0</td>\n",
       "      <td>3</td>\n",
       "      <td>2.0</td>\n",
       "      <td>12916.000000</td>\n",
       "    </tr>\n",
       "    <tr>\n",
       "      <th>1256</th>\n",
       "      <td>875.0</td>\n",
       "      <td>3</td>\n",
       "      <td>3.0</td>\n",
       "      <td>12916.000000</td>\n",
       "    </tr>\n",
       "    <tr>\n",
       "      <th>1257</th>\n",
       "      <td>990.0</td>\n",
       "      <td>2</td>\n",
       "      <td>2.0</td>\n",
       "      <td>12916.000000</td>\n",
       "    </tr>\n",
       "    <tr>\n",
       "      <th>1258</th>\n",
       "      <td>11050.0</td>\n",
       "      <td>3</td>\n",
       "      <td>3.0</td>\n",
       "      <td>12916.000000</td>\n",
       "    </tr>\n",
       "  </tbody>\n",
       "</table>\n",
       "<p>1254 rows × 4 columns</p>\n",
       "</div>"
      ],
      "text/plain": [
       "         Area  BHK  Bathroom      Per_Sqft\n",
       "0       800.0    3       2.0  15690.136542\n",
       "1       750.0    2       2.0   6667.000000\n",
       "2       950.0    2       2.0   6667.000000\n",
       "3       600.0    2       2.0   6667.000000\n",
       "4       650.0    2       2.0   6667.000000\n",
       "...       ...  ...       ...           ...\n",
       "1254   4118.0    4       5.0  12916.000000\n",
       "1255   1050.0    3       2.0  12916.000000\n",
       "1256    875.0    3       3.0  12916.000000\n",
       "1257    990.0    2       2.0  12916.000000\n",
       "1258  11050.0    3       3.0  12916.000000\n",
       "\n",
       "[1254 rows x 4 columns]"
      ]
     },
     "execution_count": 84,
     "metadata": {},
     "output_type": "execute_result"
    }
   ],
   "source": [
    "x"
   ]
  },
  {
   "cell_type": "code",
   "execution_count": 97,
   "id": "9e461ec3",
   "metadata": {},
   "outputs": [],
   "source": [
    "# spliting our data into training and testing data\n",
    "\n",
    "# #train test spilt method\n",
    "\n",
    "#test size  = 0.2 means 20%\n",
    "\n",
    "# x_train ,x_test, y_train , y_test = train_test_split(x,y,test_size = 0.2,random_state = 1) \n",
    "\n",
    "#random_state can be any number 1,2,20,30,...etc\n",
    "#this is used to give label or name to that state like 80-20 data splitting pattern is fix by giving name \"1\"\n",
    "\n",
    "from sklearn.model_selection import train_test_split\n",
    "x_train , x_test , y_tain, y_test = train_test_split(x,y,test_size = 0.2,random_state = 0)"
   ]
  },
  {
   "cell_type": "code",
   "execution_count": 89,
   "id": "15206288",
   "metadata": {},
   "outputs": [
    {
     "name": "stdout",
     "output_type": "stream",
     "text": [
      "          Area       BHK  Bathroom  Per_Sqft\n",
      "159  -0.609442 -0.861098 -1.496963 -0.600106\n",
      "769  -0.363615  0.196039 -0.552719 -0.615016\n",
      "1145  0.189495  0.196039  0.391525  0.009324\n",
      "1089  0.066582  0.196039  1.335769 -0.258329\n",
      "1241  0.576673  1.253177  1.335769  0.147101\n",
      "...        ...       ...       ...       ...\n",
      "768   0.066582  0.196039  0.391525 -0.615016\n",
      "840  -0.308304  1.253177  0.391525  0.009324\n",
      "1221  0.558236  1.253177  2.280012  0.494665\n",
      "563   0.189495  0.196039  0.391525  0.132609\n",
      "688   0.128039  0.196039  0.391525  0.124841\n",
      "\n",
      "[1003 rows x 4 columns]\n"
     ]
    }
   ],
   "source": [
    "# feature scaling \n",
    "# final step :- feature scaling \n",
    "# two method \n",
    "# 1. standardisation and 2. Normalisation\n",
    "\n",
    "\n",
    "#if our data have outlier , to find the data outlier use box plot\n",
    "# never use normalisation if your data have outliers\n",
    "\n",
    "#standardisation\n",
    "from sklearn.preprocessing import StandardScaler\n",
    "sc = StandardScaler() #max limit comes from -3 to +3\n",
    "x_train.iloc[:,:] = sc.fit_transform(x_train.iloc[:,:])\n",
    "print(x_train)"
   ]
  },
  {
   "cell_type": "code",
   "execution_count": 90,
   "id": "cb5af643",
   "metadata": {},
   "outputs": [
    {
     "name": "stdout",
     "output_type": "stream",
     "text": [
      "          Area       BHK  Bathroom  Per_Sqft\n",
      "5    -0.117788  1.253177  0.391525 -0.461070\n",
      "876  -0.677045 -1.918235 -1.496963 -0.541301\n",
      "52    0.066582  0.196039  0.391525  0.338269\n",
      "982  -0.179245  0.196039 -0.552719 -0.305300\n",
      "186   0.066582  1.253177  0.391525 -0.385062\n",
      "...        ...       ...       ...       ...\n",
      "869  -0.684420 -1.918235 -0.552719  0.009324\n",
      "31   -0.425072 -0.861098 -0.552719  0.009324\n",
      "1209  1.848828  1.253177  2.280012  8.053796\n",
      "64   -0.271430  0.196039 -0.552719 -0.624921\n",
      "412  -0.640171 -0.861098 -0.552719 -0.506581\n",
      "\n",
      "[251 rows x 4 columns]\n"
     ]
    }
   ],
   "source": [
    "# standardisation for testing data\n",
    "\n",
    "x_test.iloc[:,:] = sc.transform(x_test.iloc[:, :])\n",
    "print(x_test)"
   ]
  },
  {
   "cell_type": "code",
   "execution_count": 91,
   "id": "37cf7a2d",
   "metadata": {},
   "outputs": [
    {
     "data": {
      "text/plain": [
       "LinearRegression()"
      ]
     },
     "execution_count": 91,
     "metadata": {},
     "output_type": "execute_result"
    }
   ],
   "source": [
    "# build constructor for linear regression\n",
    "\n",
    "from sklearn.linear_model import LinearRegression\n",
    "regressor = LinearRegression()\n",
    "regressor.fit(x_train,y_tain) # fiting the data "
   ]
  },
  {
   "cell_type": "code",
   "execution_count": 92,
   "id": "e7b900ab",
   "metadata": {},
   "outputs": [
    {
     "name": "stdout",
     "output_type": "stream",
     "text": [
      "coffient [ 7088221.82999312    29774.0016077  14563402.57007144  4232514.03315894]\n",
      "regressor 21828614.15752742\n"
     ]
    }
   ],
   "source": [
    "# for linear regression the equation is f(x) = mx + c where m is slope and c is intercept\n",
    "# Now for multiple regression our equation will be f(x) = m1*x1 + m2*x2 + ... + Mn*Xn + b\n",
    "# where x1, x2, x3 .. are the different features \n",
    "\n",
    "print(\"coffient\",regressor.coef_)#slope or m or b1\n",
    "print(\"regressor\",regressor.intercept_) #y-intercept "
   ]
  },
  {
   "cell_type": "code",
   "execution_count": 94,
   "id": "473e9335",
   "metadata": {},
   "outputs": [],
   "source": [
    "# prediction of our x_test data or you can say testing our model\n",
    "y_pred = regressor.predict(x_test)\n"
   ]
  },
  {
   "cell_type": "code",
   "execution_count": 103,
   "id": "e4d63528",
   "metadata": {},
   "outputs": [
    {
     "data": {
      "text/plain": [
       "<matplotlib.collections.PathCollection at 0x11dd221b190>"
      ]
     },
     "execution_count": 103,
     "metadata": {},
     "output_type": "execute_result"
    },
    {
     "data": {
      "image/png": "[encoded data removed]",
      "text/plain": [
       "<Figure size 432x288 with 1 Axes>"
      ]
     },
     "metadata": {
      "needs_background": "light"
     },
     "output_type": "display_data"
    }
   ],
   "source": [
    "# plotting our y_test, y_pred\n",
    "plt.scatter(y_test,y_pred)"
   ]
  },
  {
   "cell_type": "markdown",
   "id": "02caf256",
   "metadata": {},
   "source": [
    "The clustter(or darker area) you can see in scatter plot, its mean those are region where aur y_test and y_pred are same"
   ]
  },
  {
   "cell_type": "code",
   "execution_count": 111,
   "id": "9727997a",
   "metadata": {},
   "outputs": [
    {
     "data": {
      "text/plain": [
       "63.594038681389556"
      ]
     },
     "execution_count": 111,
     "metadata": {},
     "output_type": "execute_result"
    }
   ],
   "source": [
    "# check the r_score for our model\n",
    "from sklearn.metrics import r2_score\n",
    "r2_score(y_test,y_pred)*100"
   ]
  },
  {
   "cell_type": "code",
   "execution_count": 115,
   "id": "f0456a34",
   "metadata": {},
   "outputs": [
    {
     "name": "stdout",
     "output_type": "stream",
     "text": [
      "[2.82814177e+10]\n"
     ]
    },
    {
     "name": "stderr",
     "output_type": "stream",
     "text": [
      "C:\\ProgramData\\Anaconda3\\lib\\site-packages\\sklearn\\base.py:450: UserWarning: X does not have valid feature names, but LinearRegression was fitted with feature names\n",
      "  warnings.warn(\n"
     ]
    }
   ],
   "source": [
    "# prediction for random values\n",
    "y_pred_rand = regressor.predict([[400,3,2,6000]])\n",
    "print(y_pred_rand)"
   ]
  }
 ],
 "metadata": {
  "kernelspec": {
   "display_name": "Python 3 (ipykernel)",
   "language": "python",
   "name": "python3"
  },
  "language_info": {
   "codemirror_mode": {
    "name": "ipython",
    "version": 3
   },
   "file_extension": ".py",
   "mimetype": "text/x-python",
   "name": "python",
   "nbconvert_exporter": "python",
   "pygments_lexer": "ipython3",
   "version": "3.9.12"
  }
 },
 "nbformat": 4,
 "nbformat_minor": 5
}
